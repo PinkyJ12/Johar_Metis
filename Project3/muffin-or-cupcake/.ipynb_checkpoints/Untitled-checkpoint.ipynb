{
 "cells": [
  {
   "cell_type": "code",
   "execution_count": 2,
   "metadata": {},
   "outputs": [
    {
     "ename": "SyntaxError",
     "evalue": "invalid syntax (<ipython-input-2-8f85ac10edfa>, line 24)",
     "output_type": "error",
     "traceback": [
      "\u001b[0;36m  File \u001b[0;32m\"<ipython-input-2-8f85ac10edfa>\"\u001b[0;36m, line \u001b[0;32m24\u001b[0m\n\u001b[0;31m    Contract_Two_year, PaymentMethod_Electronic check, MonthlyCharges,\u001b[0m\n\u001b[0m                                                    ^\u001b[0m\n\u001b[0;31mSyntaxError\u001b[0m\u001b[0;31m:\u001b[0m invalid syntax\n"
     ]
    }
   ],
   "source": [
    "import pickle\n",
    "import pandas as pd\n",
    "\n",
    "# model_info = pickle.load( open( \"pkl_muffins_cupcakes.p\", \"rb\" ), encoding='latin1' )\n",
    "# mc_model = model_info['muffin_cupcake_model']\n",
    "#clf = LogisticRegression(C=0.1)\n",
    "pd.read_pickle('Flask_Churn')\n",
    "X_train=df_all_train.iloc[:,1:]\n",
    "y_train = df_all_train.iloc[:,0]\n",
    "clf = LogisticRegression(C=0.1)\n",
    "clf.fit(X_train,y_train)\n",
    "\n",
    "#Index(['Churn_Yes', 'tenure', 'MonthlyCharges', 'gender_Male',\n",
    " #      'SeniorCitizen_Yes', 'Partner_Yes', 'Dependents_Yes',\n",
    "  #     'PhoneService_Yes', 'MultipleLines_Yes', 'InternetService_Fiber optic',\n",
    "   #    'InternetService_No', 'OnlineSecurity_Yes', 'OnlineBackup_Yes',\n",
    "  #     'DeviceProtection_Yes', 'TechSupport_Yes', 'StreamingTV_Yes',\n",
    "   #    'StreamingMovies_Yes', 'Contract_One year', 'Contract_Two year',\n",
    "   #    'PaperlessBilling_Yes', 'PaymentMethod_Credit card (automatic)',\n",
    "  #     'PaymentMethod_Electronic check', 'PaymentMethod_Mailed check'],\n",
    "   #   dtype='object')\n",
    "\n",
    "def customer_churn(tenure, SeniorCitizen_Yes, InternetService_Fiber_optic,\n",
    "                        Contract_Two_year, PaymentMethod_Electronic_check, MonthlyCharges,\n",
    "                        PaperlessBilling_Yes, OnlineSecurity_Yes, mc_model=clf):\n",
    "    \n",
    " #   total = 16 * flour_cups_float + \\\n",
    "  #          16 * milk_cups_float + \\\n",
    "   #         16 * sugar_cups_float + \\\n",
    "    #        16 * butter_cups_float + \\\n",
    "     #       3 * eggs_num_float + \\\n",
    "      #      .33 * bp_tsp_float + \\\n",
    "       #     .33 * vanilla_tsp_float + \\\n",
    "        #    .33 * salt_tsp_float\n",
    "\n",
    "#    flour_cups_prop = 16 * flour_cups_float * 100.0 / total\n",
    " #   milk_cups_prop = 16 * milk_cups_float * 100.0 / total\n",
    " #   sugar_cups_prop = 16 * sugar_cups_float * 100.0 / total\n",
    "  #  butter_cups_prop = 16 * butter_cups_float * 100.0 / total\n",
    "   # eggs_num_prop = 3 * eggs_num_float * 100.0 / total\n",
    "#    bp_tsp_prop = .33 * bp_tsp_float * 100.0 / total\n",
    " #   vanilla_tsp_prop = .33 * vanilla_tsp_float * 100.0 / total\n",
    "  #  salt_tsp_prop = .33 * salt_tsp_float * 100.0 / total\n",
    "\n",
    "    input_df = pd.DataFrame({'Tenure': tenure,\n",
    "                          'Senior Citizen': SeniorCitizen_Yes,      \n",
    "                         'InternetService_FiberOptic': InternetService_Fiber_optic,\n",
    "                          'Contract_TwoYear': Contract_Two_year,\n",
    "                          'PaymentMethod_ElectronicCheck': PaymentMethod_Electronic_check,\n",
    "                          'MonthlyCharges': MonthlyCharges,\n",
    "                          'PaperlessBilling_Yes': PaperlessBilling_Yes,\n",
    "                          'OnlineSecurity_Yes' : OnlineSecurity_Yes\n",
    "                                \n",
    "                                },index=[0])\n",
    "\n",
    "  #  input_df = pd.DataFrame({'Flour': flour_cups_prop,\n",
    "                            # 'Sugar': sugar_cups_prop}, index=[0])\n",
    "                             #'Milk': milk_cups_prop,\n",
    "                             #'Butter': butter_cups_prop,\n",
    "                             #'Eggs': eggs_num_prop,\n",
    "                             #'Baking Powder': bp_tsp_prop,\n",
    "                             #'Vanilla': vanilla_tsp_prop\n",
    "                             #'Salt': salt_tsp_prop\n",
    "\n",
    "    prediction = clf.predict_proba(input_df)[0]\n",
    "    prediction_str=str(round(clf.predict_proba(input_df)[0][1],4)*100)\n",
    "    \n",
    "\n",
    "    message_array = [\"Probability of getting churn is \" + prediction_str + \"%\"]\n",
    "                   \n",
    "\n",
    "    return message_array"
   ]
  },
  {
   "cell_type": "code",
   "execution_count": null,
   "metadata": {
    "collapsed": true
   },
   "outputs": [],
   "source": []
  }
 ],
 "metadata": {
  "kernelspec": {
   "display_name": "Python 3",
   "language": "python",
   "name": "python3"
  },
  "language_info": {
   "codemirror_mode": {
    "name": "ipython",
    "version": 3
   },
   "file_extension": ".py",
   "mimetype": "text/x-python",
   "name": "python",
   "nbconvert_exporter": "python",
   "pygments_lexer": "ipython3",
   "version": "3.6.3"
  }
 },
 "nbformat": 4,
 "nbformat_minor": 2
}
