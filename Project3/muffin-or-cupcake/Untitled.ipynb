{
 "cells": [
  {
   "cell_type": "code",
   "execution_count": 10,
   "metadata": {
    "collapsed": true
   },
   "outputs": [],
   "source": [
    "import pickle\n",
    "import pandas as pd\n",
    "from sklearn.linear_model import LogisticRegression\n",
    "\n",
    "# model_info = pickle.load( open( \"pkl_muffins_cupcakes.p\", \"rb\" ), encoding='latin1' )\n",
    "# mc_model = model_info['muffin_cupcake_model']\n",
    "#clf = LogisticRegression(C=0.1)\n",
    "df=pd.read_pickle('Flask_Churn.pkl')"
   ]
  },
  {
   "cell_type": "code",
   "execution_count": 20,
   "metadata": {},
   "outputs": [
    {
     "data": {
      "text/plain": [
       "Index(['Churn_Yes', 'tenure', 'MonthlyCharges', 'gender_Male',\n",
       "       'SeniorCitizen_Yes', 'Partner_Yes', 'Dependents_Yes',\n",
       "       'PhoneService_Yes', 'MultipleLines_Yes', 'InternetService_Fiber optic',\n",
       "       'InternetService_No', 'OnlineSecurity_Yes', 'OnlineBackup_Yes',\n",
       "       'DeviceProtection_Yes', 'TechSupport_Yes', 'StreamingTV_Yes',\n",
       "       'StreamingMovies_Yes', 'Contract_One year', 'Contract_Two year',\n",
       "       'PaperlessBilling_Yes', 'PaymentMethod_Credit card (automatic)',\n",
       "       'PaymentMethod_Electronic check', 'PaymentMethod_Mailed check'],\n",
       "      dtype='object')"
      ]
     },
     "execution_count": 20,
     "metadata": {},
     "output_type": "execute_result"
    }
   ],
   "source": [
    "df.columns"
   ]
  },
  {
   "cell_type": "code",
   "execution_count": 21,
   "metadata": {},
   "outputs": [],
   "source": [
    "df1=df.filter(['Churn_Yes','tenure','SeniorCitizen_Yes','InternetService_Fiber optic','Contract_Two year','PaymentMethod_Electronic check','MonthlyCharges','PaperlessBilling_Yes','OnlineSecurity_Yes'],axis=1)"
   ]
  },
  {
   "cell_type": "code",
   "execution_count": 22,
   "metadata": {},
   "outputs": [
    {
     "data": {
      "text/plain": [
       "Index(['Churn_Yes', 'tenure', 'SeniorCitizen_Yes',\n",
       "       'InternetService_Fiber optic', 'Contract_Two year',\n",
       "       'PaymentMethod_Electronic check', 'MonthlyCharges',\n",
       "       'PaperlessBilling_Yes', 'OnlineSecurity_Yes'],\n",
       "      dtype='object')"
      ]
     },
     "execution_count": 22,
     "metadata": {},
     "output_type": "execute_result"
    }
   ],
   "source": [
    "df1.columns"
   ]
  },
  {
   "cell_type": "code",
   "execution_count": 23,
   "metadata": {},
   "outputs": [],
   "source": [
    "X_train=df1.iloc[:,1:]\n",
    "y_train = df1.iloc[:,0]\n",
    "clf = LogisticRegression(C=0.1)\n",
    "clf.fit(X_train,y_train)\n",
    "\n",
    "\n",
    "def customer_churn(tenure, SeniorCitizen_Yes, InternetService_Fiber_optic,\n",
    "                        Contract_Two_year, PaymentMethod_Electronic_check, MonthlyCharges,\n",
    "                        PaperlessBilling_Yes, OnlineSecurity_Yes, mc_model=clf):\n",
    "    \n",
    " #   total = 16 * flour_cups_float + \\\n",
    "  #          16 * milk_cups_float + \\\n",
    "   #         16 * sugar_cups_float + \\\n",
    "    #        16 * butter_cups_float + \\\n",
    "     #       3 * eggs_num_float + \\\n",
    "      #      .33 * bp_tsp_float + \\\n",
    "       #     .33 * vanilla_tsp_float + \\\n",
    "        #    .33 * salt_tsp_float\n",
    "\n",
    "#    flour_cups_prop = 16 * flour_cups_float * 100.0 / total\n",
    " #   milk_cups_prop = 16 * milk_cups_float * 100.0 / total\n",
    " #   sugar_cups_prop = 16 * sugar_cups_float * 100.0 / total\n",
    "  #  butter_cups_prop = 16 * butter_cups_float * 100.0 / total\n",
    "   # eggs_num_prop = 3 * eggs_num_float * 100.0 / total\n",
    "#    bp_tsp_prop = .33 * bp_tsp_float * 100.0 / total\n",
    " #   vanilla_tsp_prop = .33 * vanilla_tsp_float * 100.0 / total\n",
    "  #  salt_tsp_prop = .33 * salt_tsp_float * 100.0 / total\n",
    "\n",
    "    input_df = pd.DataFrame({'Tenure': tenure,\n",
    "                          'Senior Citizen': SeniorCitizen_Yes,      \n",
    "                         'InternetService_FiberOptic': InternetService_Fiber_optic,\n",
    "                          'Contract_TwoYear': Contract_Two_year,\n",
    "                          'PaymentMethod_ElectronicCheck': PaymentMethod_Electronic_check,\n",
    "                          'MonthlyCharges': MonthlyCharges,\n",
    "                          'PaperlessBilling_Yes': PaperlessBilling_Yes,\n",
    "                          'OnlineSecurity_Yes' : OnlineSecurity_Yes\n",
    "                                \n",
    "                                },index=[0])\n",
    "\n",
    "  #  input_df = pd.DataFrame({'Flour': flour_cups_prop,\n",
    "                            # 'Sugar': sugar_cups_prop}, index=[0])\n",
    "                             #'Milk': milk_cups_prop,\n",
    "                             #'Butter': butter_cups_prop,\n",
    "                             #'Eggs': eggs_num_prop,\n",
    "                             #'Baking Powder': bp_tsp_prop,\n",
    "                             #'Vanilla': vanilla_tsp_prop\n",
    "                             #'Salt': salt_tsp_prop\n",
    "\n",
    "    prediction = clf.predict_proba(input_df)[0]\n",
    "    prediction_str=str(round(clf.predict_proba(input_df)[0][1],4)*100)\n",
    "    \n",
    "\n",
    "    message_array = [\"Probability of getting churn is \" + prediction_str + \"%\"]\n",
    "                   \n",
    "\n",
    "    return message_array"
   ]
  },
  {
   "cell_type": "code",
   "execution_count": 24,
   "metadata": {},
   "outputs": [
    {
     "name": "stdout",
     "output_type": "stream",
     "text": [
      "['Probability of getting churn is 100.0%']\n"
     ]
    }
   ],
   "source": [
    "print(customer_churn(7,1,1,0,0,100,0,1))"
   ]
  },
  {
   "cell_type": "code",
   "execution_count": null,
   "metadata": {
    "collapsed": true
   },
   "outputs": [],
   "source": []
  }
 ],
 "metadata": {
  "kernelspec": {
   "display_name": "Python 3",
   "language": "python",
   "name": "python3"
  },
  "language_info": {
   "codemirror_mode": {
    "name": "ipython",
    "version": 3
   },
   "file_extension": ".py",
   "mimetype": "text/x-python",
   "name": "python",
   "nbconvert_exporter": "python",
   "pygments_lexer": "ipython3",
   "version": "3.6.3"
  }
 },
 "nbformat": 4,
 "nbformat_minor": 2
}
